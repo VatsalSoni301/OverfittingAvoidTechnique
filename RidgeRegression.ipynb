{
 "cells": [
  {
   "cell_type": "code",
   "execution_count": 1,
   "metadata": {},
   "outputs": [],
   "source": [
    "import numpy as np\n",
    "import pandas as pd\n",
    "from sklearn.model_selection import train_test_split\n",
    "from sklearn.linear_model import Ridge\n",
    "from sklearn.metrics import r2_score\n",
    "from pylab import *\n",
    "import matplotlib\n",
    "import matplotlib.pyplot as plt\n",
    "import copy"
   ]
  },
  {
   "cell_type": "code",
   "execution_count": 2,
   "metadata": {},
   "outputs": [],
   "source": [
    "df=pd.read_csv(\"AdmissionDataset/data.csv\")\n",
    "X = df.drop(['Chance of Admit ','Serial No.'],axis=1)\n",
    "Y = df['Chance of Admit ']\n",
    "X = (X - X.mean())/X.std()"
   ]
  },
  {
   "cell_type": "code",
   "execution_count": 3,
   "metadata": {},
   "outputs": [],
   "source": [
    "X_train, X_test, Y_train, Y_test = train_test_split(X, Y, test_size=0.2)\n",
    "features=['GRE Score','TOEFL Score','University Rating','SOP','LOR ','CGPA','Research']"
   ]
  },
  {
   "cell_type": "code",
   "execution_count": 4,
   "metadata": {},
   "outputs": [],
   "source": [
    "# X_test = (X_test - X_test.mean())/X_test.std()\n",
    "# X_train = (X_train - X_train.mean())/X_train.std()"
   ]
  },
  {
   "cell_type": "code",
   "execution_count": 5,
   "metadata": {},
   "outputs": [],
   "source": [
    "def mse(y_true, y_pred): \n",
    "    y_true, y_pred = np.array(y_true), np.array(y_pred)\n",
    "    return np.mean(np.power((y_true - y_pred),2))"
   ]
  },
  {
   "cell_type": "code",
   "execution_count": 6,
   "metadata": {},
   "outputs": [
    {
     "name": "stdout",
     "output_type": "stream",
     "text": [
      "0.6411653067351564\n",
      "0.763630197472702\n",
      "0.7740476437277459\n",
      "0.7747955209853925\n",
      "0.7748552565157759\n",
      "0.7748610342913766\n",
      "0.7748616100549903\n",
      "0.7748616676111548\n",
      "0.7748616733665692\n",
      "0.7748616739421086\n",
      "0.7748616739996625\n",
      "0.7748616740054179\n",
      "0.7748616740059935\n",
      "0.774861674006051\n"
     ]
    }
   ],
   "source": [
    "lamda = 1000\n",
    "ans=lamda\n",
    "errorlist=[]\n",
    "lamdalist=[]\n",
    "prev=100000000\n",
    "while lamda>=0.0000000001:\n",
    "    ridgereg = Ridge(alpha=lamda)\n",
    "    ridgereg.fit(X_train,Y_train)\n",
    "    y_pred = ridgereg.predict(X_test)\n",
    "    \n",
    "    error=1-r2_score(y_pred,Y_test)\n",
    "    \n",
    "    if error < prev:\n",
    "        ans=lamda*10\n",
    "        prev=error\n",
    "        \n",
    "    print(r2_score(Y_test,y_pred))\n",
    "    errorlist.append(error)\n",
    "#     errorlist.append(error)\n",
    "    lamdalist.append(lamda)\n",
    "    lamda=lamda/10"
   ]
  },
  {
   "cell_type": "code",
   "execution_count": 7,
   "metadata": {},
   "outputs": [
    {
     "name": "stdout",
     "output_type": "stream",
     "text": [
      "1.0000000000000003e-09\n"
     ]
    }
   ],
   "source": [
    "print(ans)"
   ]
  },
  {
   "cell_type": "code",
   "execution_count": 8,
   "metadata": {},
   "outputs": [
    {
     "name": "stdout",
     "output_type": "stream",
     "text": [
      "[1.259471638284339, 0.3557949112271901, 0.29587751325921496, 0.28927586491494583, 0.2886047615024808, 0.2885375435958659, 0.2885308207351869, 0.28853014843842484, 0.28853008120864176, 0.28853007448566226, 0.2885300738133645, 0.2885300737461345, 0.28853007373941164, 0.2885300737387393]\n"
     ]
    },
    {
     "data": {
      "text/plain": [
       "Text(0.5, 1.0, 'Lamda vs Error')"
      ]
     },
     "execution_count": 8,
     "metadata": {},
     "output_type": "execute_result"
    },
    {
     "data": {
      "image/png": "[encoded data removed]",
      "text/plain": [
       "<Figure size 432x288 with 1 Axes>"
      ]
     },
     "metadata": {
      "needs_background": "light"
     },
     "output_type": "display_data"
    }
   ],
   "source": [
    "fig, ax = plt.subplots()\n",
    "# print(lamdalist)\n",
    "print(errorlist)\n",
    "ax.plot(lamdalist,errorlist)\n",
    "ax.set_xlabel(\"Lamda\", fontsize=10)\n",
    "ax.set_ylabel(\"Error\", fontsize=10)\n",
    "ax.set_title('Lamda vs Error')"
   ]
  },
  {
   "cell_type": "code",
   "execution_count": 9,
   "metadata": {},
   "outputs": [],
   "source": [
    "X_train_c = X_train\n",
    "ones = np.ones([X_train_c.shape[0],1])"
   ]
  },
  {
   "cell_type": "code",
   "execution_count": 10,
   "metadata": {},
   "outputs": [],
   "source": [
    "X_train_c = np.concatenate((ones,X_train_c),axis=1)"
   ]
  },
  {
   "cell_type": "code",
   "execution_count": 11,
   "metadata": {},
   "outputs": [],
   "source": [
    "Y_train_c = pd.DataFrame(Y_train)\n",
    "Y_train_c = Y_train_c.values\n",
    "# Y_train_c.shape"
   ]
  },
  {
   "cell_type": "code",
   "execution_count": 12,
   "metadata": {},
   "outputs": [],
   "source": [
    "alpha = 0.01\n",
    "iters = 10000"
   ]
  },
  {
   "cell_type": "code",
   "execution_count": 13,
   "metadata": {},
   "outputs": [],
   "source": [
    "def gradientDescent(X,y,theta,iters,alpha,lamda):\n",
    "    for i in range(iters):\n",
    "        theta1=copy.deepcopy(theta)\n",
    "        theta1[0][0]=0\n",
    "        theta = theta - (alpha/len(X)) * (np.sum(X * (X @ theta.T - y), axis=0)+lamda*theta1)\n",
    "    \n",
    "    return theta"
   ]
  },
  {
   "cell_type": "code",
   "execution_count": 14,
   "metadata": {},
   "outputs": [
    {
     "name": "stdout",
     "output_type": "stream",
     "text": [
      "0.6411653067351584\n",
      "0.7636301974727018\n",
      "0.7740476437096024\n",
      "0.7747955208181142\n",
      "0.7748552563108986\n",
      "0.7748610340823686\n",
      "0.7748616098455653\n",
      "0.774861667401688\n",
      "0.7748616731570983\n",
      "0.7748616737326373\n",
      "0.7748616737901911\n",
      "0.7748616737959464\n",
      "0.774861673796522\n",
      "0.7748616737965797\n"
     ]
    }
   ],
   "source": [
    "lamda = 1000\n",
    "errorlist=[]\n",
    "lamdalist=[]\n",
    "ans=lamda\n",
    "prev=100000000\n",
    "while lamda>=0.0000000001:\n",
    "    theta = np.zeros([1,8])\n",
    "    g = gradientDescent(X_train_c,Y_train_c,theta,iters,alpha,lamda)\n",
    "    theta=g[0]\n",
    "    y_pred=[]\n",
    "    for index,row in X_test.iterrows():\n",
    "        row=list(row)\n",
    "        y1=0\n",
    "        for i in range(0,7):\n",
    "            y1 = y1 + theta[i+1]*row[i]\n",
    "        y1=y1+theta[0]\n",
    "        y_pred.append(y1)\n",
    "        \n",
    "    error=1-r2_score(y_pred,Y_test)\n",
    "    \n",
    "    if error < prev:\n",
    "        ans=lamda*10\n",
    "        prev=error\n",
    "    \n",
    "    errorlist.append(error)\n",
    "    lamdalist.append(lamda)\n",
    "    print(r2_score(Y_test,y_pred))\n",
    "    lamda=lamda/10"
   ]
  },
  {
   "cell_type": "code",
   "execution_count": 15,
   "metadata": {},
   "outputs": [
    {
     "name": "stdout",
     "output_type": "stream",
     "text": [
      "1.0000000000000003e-09\n"
     ]
    }
   ],
   "source": [
    "print(ans)"
   ]
  },
  {
   "cell_type": "code",
   "execution_count": 16,
   "metadata": {},
   "outputs": [
    {
     "name": "stdout",
     "output_type": "stream",
     "text": [
      "[1.259471638284329, 0.35579491122719054, 0.2958775133191942, 0.2892758656481025, 0.28860476244258226, 0.28853754455961156, 0.28853082170132915, 0.2885301494048069, 0.28853008217504794, 0.288530075452071, 0.2885300747797732, 0.28853007471254366, 0.2885300747058205, 0.28853007470514824]\n"
     ]
    },
    {
     "data": {
      "text/plain": [
       "Text(0.5, 1.0, 'Lamda vs Error')"
      ]
     },
     "execution_count": 16,
     "metadata": {},
     "output_type": "execute_result"
    },
    {
     "data": {
      "image/png": "[encoded data removed]",
      "text/plain": [
       "<Figure size 432x288 with 1 Axes>"
      ]
     },
     "metadata": {
      "needs_background": "light"
     },
     "output_type": "display_data"
    }
   ],
   "source": [
    "fig, ax = plt.subplots()\n",
    "# print(lamdalist)\n",
    "print(errorlist)\n",
    "ax.plot(lamdalist,errorlist)\n",
    "ax.set_xlabel(\"Lamda\", fontsize=10)\n",
    "ax.set_ylabel(\"Error\", fontsize=10)\n",
    "ax.set_title('Lamda vs Error')"
   ]
  }
 ],
 "metadata": {
  "kernelspec": {
   "display_name": "Python 3",
   "language": "python",
   "name": "python3"
  },
  "language_info": {
   "codemirror_mode": {
    "name": "ipython",
    "version": 3
   },
   "file_extension": ".py",
   "mimetype": "text/x-python",
   "name": "python",
   "nbconvert_exporter": "python",
   "pygments_lexer": "ipython3",
   "version": "3.6.7"
  }
 },
 "nbformat": 4,
 "nbformat_minor": 2
}
