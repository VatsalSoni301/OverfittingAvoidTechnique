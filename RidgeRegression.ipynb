{
 "cells": [
  {
   "cell_type": "code",
   "execution_count": 1,
   "metadata": {},
   "outputs": [],
   "source": [
    "import numpy as np\n",
    "import pandas as pd\n",
    "from sklearn.model_selection import train_test_split\n",
    "from sklearn.linear_model import Ridge\n",
    "from sklearn.metrics import r2_score\n",
    "from pylab import *\n",
    "import matplotlib\n",
    "import matplotlib.pyplot as plt\n",
    "import copy"
   ]
  },
  {
   "cell_type": "code",
   "execution_count": 2,
   "metadata": {},
   "outputs": [],
   "source": [
    "df=pd.read_csv(\"AdmissionDataset/data.csv\")\n",
    "X = df.drop(['Chance of Admit ','Serial No.'],axis=1)\n",
    "Y = df['Chance of Admit ']\n",
    "X = (X - X.mean())/X.std()"
   ]
  },
  {
   "cell_type": "code",
   "execution_count": 3,
   "metadata": {},
   "outputs": [],
   "source": [
    "X_train, X_test, Y_train, Y_test = train_test_split(X, Y, test_size=0.2)\n",
    "features=['GRE Score','TOEFL Score','University Rating','SOP','LOR ','CGPA','Research']"
   ]
  },
  {
   "cell_type": "code",
   "execution_count": 4,
   "metadata": {},
   "outputs": [],
   "source": [
    "# X_test = (X_test - X_test.mean())/X_test.std()\n",
    "# X_train = (X_train - X_train.mean())/X_train.std()"
   ]
  },
  {
   "cell_type": "code",
   "execution_count": 5,
   "metadata": {},
   "outputs": [],
   "source": [
    "def mse(y_true, y_pred): \n",
    "    y_true, y_pred = np.array(y_true), np.array(y_pred)\n",
    "    return np.mean(np.power((y_true - y_pred),2))"
   ]
  },
  {
   "cell_type": "code",
   "execution_count": 6,
   "metadata": {},
   "outputs": [
    {
     "name": "stdout",
     "output_type": "stream",
     "text": [
      "0.6540303577563937\n",
      "0.7582021442800797\n",
      "0.7688464294797066\n",
      "0.7708108989565495\n",
      "0.7710267906794052\n",
      "0.7710485857949831\n",
      "0.771050767374256\n",
      "0.7710509855528682\n",
      "0.7710510073709365\n",
      "0.7710510095527453\n",
      "0.7710510097709262\n",
      "0.7710510097927443\n",
      "0.7710510097949261\n",
      "0.7710510097951443\n"
     ]
    }
   ],
   "source": [
    "lamda = 1000\n",
    "ans=lamda\n",
    "errorlist=[]\n",
    "lamdalist=[]\n",
    "prev=100000000\n",
    "while lamda>=0.0000000001:\n",
    "    ridgereg = Ridge(alpha=lamda)\n",
    "    ridgereg.fit(X_train,Y_train)\n",
    "    y_pred = ridgereg.predict(X_test)\n",
    "    \n",
    "    error=1-r2_score(y_pred,Y_test)\n",
    "    \n",
    "    if error < prev:\n",
    "        ans=lamda*10\n",
    "        prev=error\n",
    "        \n",
    "    print(r2_score(Y_test,y_pred))\n",
    "    errorlist.append(error)\n",
    "#     errorlist.append(error)\n",
    "    lamdalist.append(lamda)\n",
    "    lamda=lamda/10"
   ]
  },
  {
   "cell_type": "code",
   "execution_count": 7,
   "metadata": {},
   "outputs": [
    {
     "name": "stdout",
     "output_type": "stream",
     "text": [
      "1.0000000000000003e-09\n"
     ]
    }
   ],
   "source": [
    "print(ans)"
   ]
  },
  {
   "cell_type": "code",
   "execution_count": 8,
   "metadata": {},
   "outputs": [
    {
     "name": "stdout",
     "output_type": "stream",
     "text": [
      "[1.0904375112122822, 0.3376859009176968, 0.2867803504300146, 0.2798290510584982, 0.27908512166988375, 0.27901017608840073, 0.27900267593320127, 0.27900192586163963, 0.2790018508539227, 0.2790018433531456, 0.2790018426030678, 0.2790018425280598, 0.27900184252055915, 0.2790018425198091]\n"
     ]
    },
    {
     "data": {
      "text/plain": [
       "Text(0.5, 1.0, 'Lamda vs Error')"
      ]
     },
     "execution_count": 8,
     "metadata": {},
     "output_type": "execute_result"
    },
    {
     "data": {
      "image/png": "[encoded data removed]",
      "text/plain": [
       "<Figure size 432x288 with 1 Axes>"
      ]
     },
     "metadata": {
      "needs_background": "light"
     },
     "output_type": "display_data"
    }
   ],
   "source": [
    "fig, ax = plt.subplots()\n",
    "# print(lamdalist)\n",
    "print(errorlist)\n",
    "ax.plot(lamdalist,errorlist)\n",
    "ax.set_xlabel(\"Lamda\", fontsize=10)\n",
    "ax.set_ylabel(\"Error\", fontsize=10)\n",
    "ax.set_title('Lamda vs Error')"
   ]
  },
  {
   "cell_type": "code",
   "execution_count": 9,
   "metadata": {},
   "outputs": [],
   "source": [
    "X_train_c = X_train\n",
    "ones = np.ones([X_train_c.shape[0],1])"
   ]
  },
  {
   "cell_type": "code",
   "execution_count": 10,
   "metadata": {},
   "outputs": [],
   "source": [
    "X_train_c = np.concatenate((ones,X_train_c),axis=1)"
   ]
  },
  {
   "cell_type": "code",
   "execution_count": 11,
   "metadata": {},
   "outputs": [],
   "source": [
    "Y_train_c = pd.DataFrame(Y_train)\n",
    "Y_train_c = Y_train_c.values"
   ]
  },
  {
   "cell_type": "code",
   "execution_count": 12,
   "metadata": {},
   "outputs": [],
   "source": [
    "alpha = 0.01\n",
    "iters = 10000"
   ]
  },
  {
   "cell_type": "code",
   "execution_count": 13,
   "metadata": {},
   "outputs": [],
   "source": [
    "def gradientDescent(X,y,theta,iters,alpha,lamda):\n",
    "    for i in range(iters):\n",
    "        theta1=copy.deepcopy(theta)\n",
    "        theta1[0][0]=0\n",
    "        theta = theta - (alpha/len(X)) * (np.sum(X * (X @ theta.T - y), axis=0)+lamda*theta1)\n",
    "    \n",
    "    return theta"
   ]
  },
  {
   "cell_type": "code",
   "execution_count": 14,
   "metadata": {},
   "outputs": [
    {
     "name": "stdout",
     "output_type": "stream",
     "text": [
      "0.6540303577563977\n",
      "0.7582021442800775\n",
      "0.768846429103222\n",
      "0.770810894188313\n",
      "0.7710267845369672\n",
      "0.7710485794950659\n",
      "0.7710507610583713\n",
      "0.7710509792353846\n",
      "0.7710510010532927\n",
      "0.7710510032350857\n",
      "0.7710510034532649\n",
      "0.7710510034750829\n",
      "0.7710510034772647\n",
      "0.7710510034774829\n"
     ]
    }
   ],
   "source": [
    "lamda = 1000\n",
    "errorlist=[]\n",
    "lamdalist=[]\n",
    "ans=lamda\n",
    "prev=100000000\n",
    "while lamda>=0.0000000001:\n",
    "    theta = np.zeros([1,8])\n",
    "    g = gradientDescent(X_train_c,Y_train_c,theta,iters,alpha,lamda)\n",
    "    theta=g[0]\n",
    "    y_pred=[]\n",
    "    for index,row in X_test.iterrows():\n",
    "        row=list(row)\n",
    "        y1=0\n",
    "        for i in range(0,7):\n",
    "            y1 = y1 + theta[i+1]*row[i]\n",
    "        y1=y1+theta[0]\n",
    "        y_pred.append(y1)\n",
    "        \n",
    "    error=1-r2_score(y_pred,Y_test)\n",
    "    \n",
    "    if error < prev:\n",
    "        ans=lamda*10\n",
    "        prev=error\n",
    "    \n",
    "    errorlist.append(error)\n",
    "    lamdalist.append(lamda)\n",
    "    print(r2_score(Y_test,y_pred))\n",
    "    lamda=lamda/10"
   ]
  },
  {
   "cell_type": "code",
   "execution_count": 15,
   "metadata": {},
   "outputs": [
    {
     "name": "stdout",
     "output_type": "stream",
     "text": [
      "1.0000000000000003e-09\n"
     ]
    }
   ],
   "source": [
    "print(ans)"
   ]
  },
  {
   "cell_type": "code",
   "execution_count": 16,
   "metadata": {},
   "outputs": [
    {
     "name": "stdout",
     "output_type": "stream",
     "text": [
      "[1.0904375112122646, 0.3376859009176991, 0.28678035098300847, 0.2798290581520315, 0.2790851308255927, 0.2790101854807556, 0.2790026853495541, 0.2790019352803955, 0.2790018602729194, 0.27900185277216605, 0.2790018520220906, 0.27900185194708316, 0.2790018519395824, 0.2790018519388323]\n"
     ]
    },
    {
     "data": {
      "text/plain": [
       "Text(0.5, 1.0, 'Lamda vs Error')"
      ]
     },
     "execution_count": 16,
     "metadata": {},
     "output_type": "execute_result"
    },
    {
     "data": {
      "image/png": "[encoded data removed]",
      "text/plain": [
       "<Figure size 432x288 with 1 Axes>"
      ]
     },
     "metadata": {
      "needs_background": "light"
     },
     "output_type": "display_data"
    }
   ],
   "source": [
    "fig, ax = plt.subplots()\n",
    "# print(lamdalist)\n",
    "print(errorlist)\n",
    "ax.plot(lamdalist,errorlist)\n",
    "ax.set_xlabel(\"Lamda\", fontsize=10)\n",
    "ax.set_ylabel(\"Error\", fontsize=10)\n",
    "ax.set_title('Lamda vs Error')"
   ]
  }
 ],
 "metadata": {
  "kernelspec": {
   "display_name": "Python 3",
   "language": "python",
   "name": "python3"
  },
  "language_info": {
   "codemirror_mode": {
    "name": "ipython",
    "version": 3
   },
   "file_extension": ".py",
   "mimetype": "text/x-python",
   "name": "python",
   "nbconvert_exporter": "python",
   "pygments_lexer": "ipython3",
   "version": "3.6.7"
  }
 },
 "nbformat": 4,
 "nbformat_minor": 2
}
