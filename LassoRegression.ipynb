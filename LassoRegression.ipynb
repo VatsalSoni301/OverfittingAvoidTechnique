{
 "cells": [
  {
   "cell_type": "code",
   "execution_count": 1,
   "metadata": {},
   "outputs": [],
   "source": [
    "import numpy as np\n",
    "import pandas as pd\n",
    "from sklearn.model_selection import train_test_split\n",
    "from sklearn.preprocessing import StandardScaler\n",
    "from sklearn import preprocessing\n",
    "from sklearn.linear_model import Lasso\n",
    "from sklearn.metrics import r2_score\n",
    "from pylab import *\n",
    "import matplotlib\n",
    "import matplotlib.pyplot as plt\n",
    "import copy"
   ]
  },
  {
   "cell_type": "code",
   "execution_count": 2,
   "metadata": {},
   "outputs": [],
   "source": [
    "df=pd.read_csv(\"AdmissionDataset/data.csv\")\n",
    "X = df.drop(['Chance of Admit ','Serial No.'],axis=1)\n",
    "Y = df['Chance of Admit ']\n",
    "X = (X - X.mean())/X.std()\n",
    "# X = X / (np.linalg.norm(X,axis = 0))\n",
    "# X = StandardScaler().fit_transform(X)\n",
    "# X = preprocessing.normalize(X)"
   ]
  },
  {
   "cell_type": "code",
   "execution_count": 3,
   "metadata": {},
   "outputs": [],
   "source": [
    "X_train, X_test, Y_train, Y_test = train_test_split(X, Y, test_size=0.2)\n",
    "# features=['GRE Score','TOEFL Score','University Rating','SOP','LOR ','CGPA','Research']"
   ]
  },
  {
   "cell_type": "code",
   "execution_count": 4,
   "metadata": {},
   "outputs": [],
   "source": [
    "# X_test = (X_test - X_test.mean())/X_test.std()\n",
    "# X_train = (X_train - X_train.mean())/X_train.std()"
   ]
  },
  {
   "cell_type": "code",
   "execution_count": 5,
   "metadata": {},
   "outputs": [],
   "source": [
    "def mse(y_true, y_pred): \n",
    "    y_true, y_pred = np.array(y_true), np.array(y_pred)\n",
    "    return np.mean(np.power((y_true - y_pred),2))"
   ]
  },
  {
   "cell_type": "code",
   "execution_count": 6,
   "metadata": {},
   "outputs": [
    {
     "name": "stdout",
     "output_type": "stream",
     "text": [
      "1.0015128026023972\n",
      "1.0015128026023972\n",
      "1.0015128026023972\n",
      "1.0015128026023972\n",
      "1.0015128026023972\n",
      "1.0015128026023972\n",
      "0.6724462882718303\n",
      "0.22924929748954515\n",
      "0.21779578929892995\n",
      "0.2182015968345724\n",
      "0.21852561045562424\n",
      "0.21855859799125088\n",
      "0.21856196390064397\n"
     ]
    }
   ],
   "source": [
    "lamda = 100000\n",
    "Y_test=np.array(Y_test)\n",
    "errorlist=[]\n",
    "# lamdalist=[.00001,.0001,.001,.01,0.1,1,5,10,15,20,25,50,100,200,500]\n",
    "lamdalist=[]\n",
    "ans=lamda\n",
    "prev=100000000000\n",
    "i1=0\n",
    "while lamda>0.0000001:\n",
    "#     print(l)\n",
    "    lassoreg = Lasso(alpha=lamda,max_iter=10000)\n",
    "    lassoreg.fit(X_train,Y_train)\n",
    "    y_pred = lassoreg.predict(X_test)\n",
    "    error=1-r2_score(Y_test,y_pred)\n",
    "    \n",
    "    if error < prev:\n",
    "        ans=lamda\n",
    "        prev=error\n",
    "    \n",
    "#     prev=error\n",
    "    print(error)\n",
    "    i1=i1+1\n",
    "    errorlist.append(error)\n",
    "    lamdalist.append(lamda)\n",
    "    lamda=lamda/10"
   ]
  },
  {
   "cell_type": "code",
   "execution_count": 7,
   "metadata": {},
   "outputs": [
    {
     "name": "stdout",
     "output_type": "stream",
     "text": [
      "0.001\n"
     ]
    }
   ],
   "source": [
    "print(ans)"
   ]
  },
  {
   "cell_type": "code",
   "execution_count": 8,
   "metadata": {
    "scrolled": true
   },
   "outputs": [
    {
     "data": {
      "text/plain": [
       "Text(0.5, 1.0, 'Lamda vs Error')"
      ]
     },
     "execution_count": 8,
     "metadata": {},
     "output_type": "execute_result"
    },
    {
     "data": {
      "image/png": "[encoded data removed]",
      "text/plain": [
       "<Figure size 432x288 with 1 Axes>"
      ]
     },
     "metadata": {
      "needs_background": "light"
     },
     "output_type": "display_data"
    }
   ],
   "source": [
    "fig, ax = plt.subplots()\n",
    "# print(lamdalist)\n",
    "# print(errorlist)\n",
    "ax.plot(lamdalist,errorlist)\n",
    "ax.set_xlabel(\"Lamda\", fontsize=10)\n",
    "ax.set_ylabel(\"Error\", fontsize=10)\n",
    "ax.set_title('Lamda vs Error')"
   ]
  },
  {
   "cell_type": "code",
   "execution_count": 9,
   "metadata": {},
   "outputs": [],
   "source": [
    "X_train_c = X_train\n",
    "ones = np.ones([X_train_c.shape[0],1])"
   ]
  },
  {
   "cell_type": "code",
   "execution_count": 10,
   "metadata": {},
   "outputs": [],
   "source": [
    "X_train_c = np.concatenate((ones,X_train_c),axis=1)"
   ]
  },
  {
   "cell_type": "code",
   "execution_count": 11,
   "metadata": {},
   "outputs": [],
   "source": [
    "Y_train_c = pd.DataFrame(Y_train)\n",
    "Y_train_c = Y_train_c.values"
   ]
  },
  {
   "cell_type": "code",
   "execution_count": 12,
   "metadata": {},
   "outputs": [],
   "source": [
    "theta = np.zeros([1,8])"
   ]
  },
  {
   "cell_type": "code",
   "execution_count": 13,
   "metadata": {},
   "outputs": [],
   "source": [
    "alpha = 0.0001\n",
    "iters = 100000"
   ]
  },
  {
   "cell_type": "code",
   "execution_count": 14,
   "metadata": {},
   "outputs": [],
   "source": [
    "def soft_threshold(rho,lamda):\n",
    "    '''Soft threshold function used for normalized data and lasso regression'''\n",
    "    if rho < - lamda:\n",
    "        return (rho + lamda)\n",
    "    elif rho >  lamda:\n",
    "        return (rho - lamda)\n",
    "    else: \n",
    "        return 0"
   ]
  },
  {
   "cell_type": "code",
   "execution_count": 15,
   "metadata": {},
   "outputs": [],
   "source": [
    "def gradientDescent(X,y,theta,iters,alpha,lamda):\n",
    "    for i in range(iters):\n",
    "        theta1=copy.deepcopy(theta)\n",
    "        theta1[0][0]=0\n",
    "        theta = theta - (alpha/len(X)) * (np.sum(X * (X @ theta.T - y), axis=0)+(lamda/2)*np.sign(theta1))\n",
    "    \n",
    "    return theta"
   ]
  },
  {
   "cell_type": "code",
   "execution_count": 16,
   "metadata": {},
   "outputs": [
    {
     "name": "stdout",
     "output_type": "stream",
     "text": [
      "0.9703712238640029\n",
      "1.0040329004151014\n",
      "1.0009928351702984\n",
      "1.000713091561578\n",
      "0.22781007634592987\n",
      "0.21555159849421568\n",
      "0.21609230592433015\n",
      "0.21631186472358666\n",
      "0.21633296142696246\n",
      "0.21633506192747698\n",
      "0.21633527188520474\n",
      "0.21633529288016562\n",
      "0.21633529497966475\n"
     ]
    }
   ],
   "source": [
    "lamda = 100000\n",
    "errorlist=[]\n",
    "# lamdalist=[0.00001,0.0001,0.001,0.01,0.1,1,5,10,15,20,25,50,100,200,500,1000,2000,5000,10000,20000]\n",
    "lamdalist=[]\n",
    "# ans=lamdalist[0]\n",
    "ans=lamda\n",
    "prev=10000000000\n",
    "while lamda>0.0000001:\n",
    "# for lamda in lamdalist:\n",
    "    theta = np.ones([1,8])\n",
    "    g = gradientDescent(X_train_c,Y_train_c,theta,iters,alpha,lamda)\n",
    "    theta=g[0]\n",
    "    y_pred=[]\n",
    "    for index,row in X_test.iterrows():\n",
    "        row=list(row)\n",
    "        y1=0\n",
    "        for i in range(0,7):\n",
    "            y1 = y1 + theta[i+1]*row[i]\n",
    "        y1=y1+theta[0]\n",
    "        y_pred.append(y1)\n",
    "        \n",
    "    error=1-r2_score(Y_test,y_pred)\n",
    "    \n",
    "    if error < prev:\n",
    "        ans=lamda\n",
    "        prev=error\n",
    "    \n",
    "#     prev=error\n",
    "    print(error)\n",
    "    errorlist.append(error)\n",
    "    lamdalist.append(lamda)\n",
    "    lamda=lamda/10"
   ]
  },
  {
   "cell_type": "code",
   "execution_count": 17,
   "metadata": {},
   "outputs": [
    {
     "name": "stdout",
     "output_type": "stream",
     "text": [
      "1.0\n"
     ]
    }
   ],
   "source": [
    "print(ans)"
   ]
  },
  {
   "cell_type": "code",
   "execution_count": 18,
   "metadata": {},
   "outputs": [
    {
     "data": {
      "text/plain": [
       "Text(0.5, 1.0, 'Lamda vs Error')"
      ]
     },
     "execution_count": 18,
     "metadata": {},
     "output_type": "execute_result"
    },
    {
     "data": {
      "image/png": "[encoded data removed]",
      "text/plain": [
       "<Figure size 432x288 with 1 Axes>"
      ]
     },
     "metadata": {
      "needs_background": "light"
     },
     "output_type": "display_data"
    }
   ],
   "source": [
    "fig, ax = plt.subplots()\n",
    "# print(lamdalist)\n",
    "# print(errorlist)\n",
    "ax.plot(lamdalist,errorlist)\n",
    "ax.set_xlabel(\"Lamda\", fontsize=10)\n",
    "ax.set_ylabel(\"Error\", fontsize=10)\n",
    "ax.set_title('Lamda vs Error')"
   ]
  }
 ],
 "metadata": {
  "kernelspec": {
   "display_name": "Python 3",
   "language": "python",
   "name": "python3"
  },
  "language_info": {
   "codemirror_mode": {
    "name": "ipython",
    "version": 3
   },
   "file_extension": ".py",
   "mimetype": "text/x-python",
   "name": "python",
   "nbconvert_exporter": "python",
   "pygments_lexer": "ipython3",
   "version": "3.6.7"
  }
 },
 "nbformat": 4,
 "nbformat_minor": 2
}
