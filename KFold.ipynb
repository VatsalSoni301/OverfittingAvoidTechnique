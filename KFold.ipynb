{
 "cells": [
  {
   "cell_type": "code",
   "execution_count": 69,
   "metadata": {},
   "outputs": [],
   "source": [
    "import numpy as np\n",
    "import pandas as pd\n",
    "from sklearn.model_selection import train_test_split\n",
    "from sklearn.metrics import r2_score\n",
    "from pylab import *\n",
    "import matplotlib\n",
    "import matplotlib.pyplot as plt\n",
    "import copy"
   ]
  },
  {
   "cell_type": "code",
   "execution_count": 70,
   "metadata": {},
   "outputs": [],
   "source": [
    "df=pd.read_csv(\"AdmissionDataset/data.csv\")\n",
    "X = df.drop(['Chance of Admit ','Serial No.'],axis=1)\n",
    "Y = df['Chance of Admit ']"
   ]
  },
  {
   "cell_type": "code",
   "execution_count": 71,
   "metadata": {},
   "outputs": [],
   "source": [
    "X = (X - X.mean())/X.std()"
   ]
  },
  {
   "cell_type": "code",
   "execution_count": 72,
   "metadata": {},
   "outputs": [],
   "source": [
    "X_train, X_test, Y_train, Y_test = train_test_split(X, Y, test_size=0.2)\n",
    "features=['GRE Score','TOEFL Score','University Rating','SOP','LOR ','CGPA','Research']"
   ]
  },
  {
   "cell_type": "code",
   "execution_count": 73,
   "metadata": {},
   "outputs": [],
   "source": [
    "# X_test = (X_test - X_test.mean())/X_test.std()\n",
    "# X_train = (X_train - X_train.mean())/X_train.std()"
   ]
  },
  {
   "cell_type": "code",
   "execution_count": 74,
   "metadata": {},
   "outputs": [],
   "source": [
    "X_train =pd.concat([X_train,Y_train],axis=1)"
   ]
  },
  {
   "cell_type": "code",
   "execution_count": 75,
   "metadata": {},
   "outputs": [],
   "source": [
    "alpha = 0.01\n",
    "iters = 1000"
   ]
  },
  {
   "cell_type": "code",
   "execution_count": 76,
   "metadata": {},
   "outputs": [],
   "source": [
    "def mse(y_true, y_pred): \n",
    "    y_true, y_pred = np.array(y_true), np.array(y_pred)\n",
    "    return np.mean(np.power((y_true - y_pred),2))"
   ]
  },
  {
   "cell_type": "code",
   "execution_count": 77,
   "metadata": {},
   "outputs": [],
   "source": [
    "def gradientDescent(X,y,theta,iters,alpha):\n",
    "    lamda=0.000000001\n",
    "    for i in range(iters):\n",
    "        theta1=copy.deepcopy(theta)\n",
    "        theta1[0][0]=0\n",
    "        theta = theta - (alpha/len(X)) * (np.sum(X * (X @ theta.T - y), axis=0)+lamda*theta1)\n",
    "    \n",
    "    return theta"
   ]
  },
  {
   "cell_type": "code",
   "execution_count": 78,
   "metadata": {},
   "outputs": [],
   "source": [
    "maxAccuracy = 0\n",
    "foldstart = 0"
   ]
  },
  {
   "cell_type": "code",
   "execution_count": 79,
   "metadata": {},
   "outputs": [
    {
     "name": "stdout",
     "output_type": "stream",
     "text": [
      "Accuracy:-  0.7490086126579751\n",
      "Error:-  0.004382288813756834\n",
      "Accuracy:-  0.769252626975961\n",
      "Error:-  0.002674432364182497\n",
      "Accuracy:-  0.6762345832206926\n",
      "Error:-  0.00429715625886481\n",
      "Accuracy:-  0.8363288724266912\n",
      "Error:-  0.003301972933782245\n",
      "Accuracy:-  0.8786371532687866\n",
      "Error:-  0.003523701988239497\n",
      "Accuracy:-  0.6053675636851892\n",
      "Error:-  0.005502754691973723\n",
      "Accuracy:-  0.8281828989737532\n",
      "Error:-  0.0035672559129381206\n",
      "Accuracy:-  0.8468913802813505\n",
      "Error:-  0.003508637129472571\n"
     ]
    }
   ],
   "source": [
    "errorlist = []\n",
    "k=8\n",
    "for i1 in range(k):\n",
    "#     print(index)\n",
    "    no = int(X.shape[0]/k)\n",
    "    temp=[]\n",
    "    for i2 in range(i1*no,(i1+1)*no):\n",
    "        temp.append(i2)\n",
    "    X_train_1= X_train.drop(X_train.index[temp])\n",
    "#     print(row)\n",
    "    X_test1= X_train.iloc[i1*no:(i1+1)*no,0:7]\n",
    "    y_test1= X_train.iloc[i1*no:(i1+1)*no,-1]\n",
    "    X = X_train_1.iloc[:,0:7]\n",
    "    ones = np.ones([X.shape[0],1])\n",
    "    X = np.concatenate((ones,X),axis=1)\n",
    "    ylist = X_train_1.iloc[:,7:8].values\n",
    "    theta = np.zeros([1,8])\n",
    "    \n",
    "    g = gradientDescent(X,ylist,theta,iters,alpha)\n",
    "    theta=g[0]\n",
    "    y_pred=[]\n",
    "#     print(theta)\n",
    "    y_pred=[]\n",
    "    for index,row in X_test1.iterrows():\n",
    "        row=list(row)\n",
    "        y1=0\n",
    "        for i in range(0,7):\n",
    "            y1 = y1 + theta[i+1]*row[i]\n",
    "        y1=y1+theta[0]\n",
    "        y_pred.append(y1)\n",
    "        \n",
    "    Accuracy = r2_score(y_test1,y_pred)\n",
    "    print(\"Accuracy:- \",Accuracy)\n",
    "    \n",
    "    if Accuracy > maxAccuracy:\n",
    "        maxAccuracy = Accuracy\n",
    "        foldstart = i1\n",
    "    \n",
    "    error=mse(y_pred,y_test1)\n",
    "#     print(y_pred)\n",
    "    print(\"Error:- \",error)\n",
    "    \n",
    "    errorlist.append(error)"
   ]
  },
  {
   "cell_type": "code",
   "execution_count": 80,
   "metadata": {},
   "outputs": [
    {
     "name": "stdout",
     "output_type": "stream",
     "text": [
      "Mean Error:-  0.003844775011651287\n"
     ]
    }
   ],
   "source": [
    "MeanError = np.mean(errorlist)\n",
    "print(\"Mean Error:- \",MeanError)"
   ]
  },
  {
   "cell_type": "code",
   "execution_count": 81,
   "metadata": {},
   "outputs": [
    {
     "name": "stdout",
     "output_type": "stream",
     "text": [
      "Kth fold:-  5\n"
     ]
    }
   ],
   "source": [
    "print(\"Kth fold:- \",foldstart+1)"
   ]
  },
  {
   "cell_type": "code",
   "execution_count": 82,
   "metadata": {},
   "outputs": [],
   "source": [
    "temp=[]\n",
    "k=8\n",
    "no = int(X_train.shape[0]/k)\n",
    "for i2 in range(foldstart*no,(foldstart+1)*no):\n",
    "    temp.append(i2)\n",
    "X_train_1= X_train.drop(X_train.index[temp])\n",
    "X_test1= X_train.iloc[foldstart*no:(foldstart+1)*no,0:7]\n",
    "y_test1= X_train.iloc[foldstart*no:(foldstart+1)*no,-1]\n",
    "X = X_train_1.iloc[:,0:7]\n",
    "ones = np.ones([X.shape[0],1])\n",
    "X = np.concatenate((ones,X),axis=1)\n",
    "ylist = X_train_1.iloc[:,7:8].values\n",
    "theta = np.zeros([1,8])\n",
    "\n",
    "g = gradientDescent(X,ylist,theta,iters,alpha)\n",
    "theta=g[0]"
   ]
  },
  {
   "cell_type": "code",
   "execution_count": 83,
   "metadata": {},
   "outputs": [
    {
     "name": "stdout",
     "output_type": "stream",
     "text": [
      "Accuracy:-  0.8319155786240866\n"
     ]
    }
   ],
   "source": [
    "y_pred= []\n",
    "for index,row in X_test.iterrows():\n",
    "    row=list(row)\n",
    "    y1=0\n",
    "    for i in range(0,7):\n",
    "        y1 = y1 + theta[i+1]*row[i]\n",
    "    y1=y1+theta[0]\n",
    "    y_pred.append(y1)\n",
    "\n",
    "Accuracy = r2_score(Y_test,y_pred)\n",
    "print(\"Accuracy:- \",Accuracy)"
   ]
  },
  {
   "cell_type": "markdown",
   "metadata": {},
   "source": [
    "## Analyse how behavior changes with different values of k.\n",
    "\n",
    "* The value for k is chosen such that each train/test group of data samples is large enough to be statistically representative of the broader dataset.\n",
    "\n",
    "* The choice of k is usually 5 or 10, but there is no formal rule. As k gets larger, the difference in size between the training set and the resampling subsets gets smaller. As this difference decreases, the bias of the technique becomes smaller"
   ]
  },
  {
   "cell_type": "code",
   "execution_count": 84,
   "metadata": {},
   "outputs": [],
   "source": [
    "ferror = []\n",
    "klist = []\n",
    "k=2\n",
    "while k<=10:\n",
    "    errorlist = []\n",
    "    for i1 in range(k):\n",
    "        no = int(X_train.shape[0]/k)\n",
    "    #     print(index)\n",
    "        temp=[]\n",
    "        for i2 in range(i1*no,(i1+1)*no):\n",
    "            temp.append(i2)\n",
    "        X_train_1= X_train.drop(X_train.index[temp])\n",
    "    #     print(row)\n",
    "        X_test1= X_train.iloc[i1*no:(i1+1)*no,0:7]\n",
    "        y_test1= X_train.iloc[i1*no:(i1+1)*no,-1]\n",
    "        X = X_train_1.iloc[:,0:7]\n",
    "        ones = np.ones([X.shape[0],1])\n",
    "        X = np.concatenate((ones,X),axis=1)\n",
    "        ylist = X_train_1.iloc[:,7:8].values\n",
    "        theta = np.zeros([1,8])\n",
    "\n",
    "        g = gradientDescent(X,ylist,theta,iters,alpha)\n",
    "        theta=g[0]\n",
    "        y_pred=[]\n",
    "    #     print(theta)\n",
    "        y_pred=[]\n",
    "        for index,row in X_test1.iterrows():\n",
    "            row=list(row)\n",
    "            y1=0\n",
    "            for i in range(0,7):\n",
    "                y1 = y1 + theta[i+1]*row[i]\n",
    "            y1=y1+theta[0]\n",
    "            y_pred.append(y1)\n",
    "\n",
    "        Accuracy = r2_score(y_test1,y_pred)\n",
    "#         print(\"Accuracy:- \",Accuracy)\n",
    "\n",
    "        if Accuracy > maxAccuracy:\n",
    "            maxAccuracy = Accuracy\n",
    "            foldstart = i1\n",
    "\n",
    "        error=mse(y_pred,y_test1)\n",
    "    #     print(y_pred)\n",
    "#         print(\"Error:- \",error)\n",
    "\n",
    "        errorlist.append(error)\n",
    "    \n",
    "    ferror.append(np.mean(errorlist))\n",
    "    klist.append(k)\n",
    "    k=k+2"
   ]
  },
  {
   "cell_type": "code",
   "execution_count": 85,
   "metadata": {},
   "outputs": [
    {
     "data": {
      "text/plain": [
       "Text(0.5, 1.0, 'K vs Error')"
      ]
     },
     "execution_count": 85,
     "metadata": {},
     "output_type": "execute_result"
    },
    {
     "data": {
      "image/png": "[encoded data removed]",
      "text/plain": [
       "<Figure size 432x288 with 1 Axes>"
      ]
     },
     "metadata": {
      "needs_background": "light"
     },
     "output_type": "display_data"
    }
   ],
   "source": [
    "fig, ax = plt.subplots()\n",
    "# print(lamdalist)\n",
    "# print(errorlist)\n",
    "ax.plot(klist,ferror)\n",
    "ax.set_xlabel(\"K\", fontsize=10)\n",
    "ax.set_ylabel(\"Error\", fontsize=10)\n",
    "ax.set_title('K vs Error')"
   ]
  }
 ],
 "metadata": {
  "kernelspec": {
   "display_name": "Python 3",
   "language": "python",
   "name": "python3"
  },
  "language_info": {
   "codemirror_mode": {
    "name": "ipython",
    "version": 3
   },
   "file_extension": ".py",
   "mimetype": "text/x-python",
   "name": "python",
   "nbconvert_exporter": "python",
   "pygments_lexer": "ipython3",
   "version": "3.6.7"
  }
 },
 "nbformat": 4,
 "nbformat_minor": 2
}
