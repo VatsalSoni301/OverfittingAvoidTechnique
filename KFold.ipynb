{
 "cells": [
  {
   "cell_type": "code",
   "execution_count": 1,
   "metadata": {},
   "outputs": [],
   "source": [
    "import numpy as np\n",
    "import pandas as pd\n",
    "from sklearn.model_selection import train_test_split\n",
    "from sklearn.metrics import r2_score\n",
    "from pylab import *\n",
    "import matplotlib\n",
    "import matplotlib.pyplot as plt\n",
    "import copy"
   ]
  },
  {
   "cell_type": "code",
   "execution_count": 2,
   "metadata": {},
   "outputs": [],
   "source": [
    "df=pd.read_csv(\"AdmissionDataset/data.csv\")\n",
    "X = df.drop(['Chance of Admit ','Serial No.'],axis=1)\n",
    "Y = df['Chance of Admit ']"
   ]
  },
  {
   "cell_type": "code",
   "execution_count": 3,
   "metadata": {},
   "outputs": [],
   "source": [
    "X = (X - X.mean())/X.std()"
   ]
  },
  {
   "cell_type": "code",
   "execution_count": 4,
   "metadata": {},
   "outputs": [],
   "source": [
    "X_train, X_test, Y_train, Y_test = train_test_split(X, Y, test_size=0.2)\n",
    "features=['GRE Score','TOEFL Score','University Rating','SOP','LOR ','CGPA','Research']"
   ]
  },
  {
   "cell_type": "code",
   "execution_count": 5,
   "metadata": {},
   "outputs": [],
   "source": [
    "# X_test = (X_test - X_test.mean())/X_test.std()\n",
    "# X_train = (X_train - X_train.mean())/X_train.std()"
   ]
  },
  {
   "cell_type": "code",
   "execution_count": 6,
   "metadata": {},
   "outputs": [],
   "source": [
    "X_train =pd.concat([X_train,Y_train],axis=1)"
   ]
  },
  {
   "cell_type": "code",
   "execution_count": 7,
   "metadata": {},
   "outputs": [],
   "source": [
    "alpha = 0.01\n",
    "iters = 1000"
   ]
  },
  {
   "cell_type": "code",
   "execution_count": 8,
   "metadata": {},
   "outputs": [],
   "source": [
    "def mse(y_true, y_pred): \n",
    "    y_true, y_pred = np.array(y_true), np.array(y_pred)\n",
    "    return np.mean(np.power((y_true - y_pred),2))"
   ]
  },
  {
   "cell_type": "code",
   "execution_count": 9,
   "metadata": {},
   "outputs": [],
   "source": [
    "def gradientDescent(X,y,theta,iters,alpha):\n",
    "    lamda=0.000000001\n",
    "    for i in range(iters):\n",
    "        theta1=copy.deepcopy(theta)\n",
    "        theta1[0][0]=0\n",
    "        theta = theta - (alpha/len(X)) * (np.sum(X * (X @ theta.T - y), axis=0)+lamda*theta1)\n",
    "    \n",
    "    return theta"
   ]
  },
  {
   "cell_type": "code",
   "execution_count": 10,
   "metadata": {},
   "outputs": [
    {
     "name": "stdout",
     "output_type": "stream",
     "text": [
      "Accuracy:-  0.8618734411626104\n",
      "Error:-  0.0032613023438607474\n",
      "Accuracy:-  0.7938464049973276\n",
      "Error:-  0.004021621425357132\n",
      "Accuracy:-  0.81703694849914\n",
      "Error:-  0.0029436722063693904\n",
      "Accuracy:-  0.8064730400849791\n",
      "Error:-  0.0037751250313134265\n",
      "Accuracy:-  0.8051778617633377\n",
      "Error:-  0.0028819551854003863\n",
      "Accuracy:-  0.7755903324461129\n",
      "Error:-  0.005928679007106143\n"
     ]
    }
   ],
   "source": [
    "k=6\n",
    "for i1 in range(k):\n",
    "#     print(index)\n",
    "    temp=[]\n",
    "    for i2 in range(i1*60,(i1+1)*60):\n",
    "        temp.append(i2)\n",
    "    X_train_1= X_train.drop(X_train.index[temp])\n",
    "#     print(row)\n",
    "    X_test1= X_train.iloc[i1*60:(i1+1)*60,0:7]\n",
    "    y_test1= X_train.iloc[i1*60:(i1+1)*60,-1]\n",
    "    X = X_train_1.iloc[:,0:7]\n",
    "    ones = np.ones([X.shape[0],1])\n",
    "    X = np.concatenate((ones,X),axis=1)\n",
    "    ylist = X_train_1.iloc[:,7:8].values\n",
    "    theta = np.zeros([1,8])\n",
    "    \n",
    "    g = gradientDescent(X,ylist,theta,iters,alpha)\n",
    "    theta=g[0]\n",
    "    y_pred=[]\n",
    "#     print(theta)\n",
    "    y_pred=[]\n",
    "    for index,row in X_test1.iterrows():\n",
    "        row=list(row)\n",
    "        y1=0\n",
    "        for i in range(0,7):\n",
    "            y1 = y1 + theta[i+1]*row[i]\n",
    "        y1=y1+theta[0]\n",
    "        y_pred.append(y1)\n",
    "    print(\"Accuracy:- \",r2_score(y_test1,y_pred))\n",
    "    error=mse(y_pred,y_test1)\n",
    "#     print(y_pred)\n",
    "    print(\"Error:- \",error)"
   ]
  }
 ],
 "metadata": {
  "kernelspec": {
   "display_name": "Python 3",
   "language": "python",
   "name": "python3"
  },
  "language_info": {
   "codemirror_mode": {
    "name": "ipython",
    "version": 3
   },
   "file_extension": ".py",
   "mimetype": "text/x-python",
   "name": "python",
   "nbconvert_exporter": "python",
   "pygments_lexer": "ipython3",
   "version": "3.6.7"
  }
 },
 "nbformat": 4,
 "nbformat_minor": 2
}
